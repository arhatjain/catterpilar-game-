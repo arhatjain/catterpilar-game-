{
  "cells": [
    {
      "cell_type": "code",
      "execution_count": 1,
      "metadata": {
        "id": "FQOYnjA9G1F2"
      },
      "outputs": [],
      "source": [
        "import turtle as t \n",
        "import time as ti\n",
        "import random as rd\n"
      ]
    },
    {
      "cell_type": "code",
      "execution_count": null,
      "metadata": {
        "id": "v7A73qjjG1F3"
      },
      "outputs": [],
      "source": [
        "t.bgcolor('blue')\n",
        "\n",
        "cp = t.Turtle()\n",
        "cp.shape('square')\n",
        "cp.color('green')\n",
        "cp.speed(0)\n",
        "cp.penup()\n",
        "cp.hideturtle()\n",
        "\n",
        "\n",
        "leaf = t.Turtle()\n",
        "leaf_shape=((0,0),(14,2),(18,6),(20,20),(6,18),(2,14))\n",
        "t.register_shape('leafs', leaf_shape)\n",
        "leaf.shape('leafs')\n",
        "leaf.color('green')\n",
        "leaf.hideturtle()\n",
        "\n",
        "text_ = False\n",
        "text_ = t.Turtle()\n",
        "text_.write(\"press space to start game\",align = 'center', font=['Arial',18,'bold'])\n",
        "text_.hideturtle()\n",
        "\n",
        "\n",
        "score_ = t.Turtle()  \n",
        "score_.hideturtle()\n",
        "score_.speed(0)\n",
        "\n",
        "\n"
      ]
    },
    {
      "cell_type": "code",
      "execution_count": null,
      "metadata": {
        "id": "pFJn7tvCG1F5"
      },
      "outputs": [],
      "source": [
        "def check_limit():\n",
        "    left_wall=-t.window_width()/2\n",
        "    right_wall=t.window_width()/2\n",
        "    top_wall=t.window_height()/2\n",
        "    bottom_wall=-t.window_height()/2\n",
        "    (x,y)=cp.pos()\n",
        "    outside= x<left_wall or x>right_wall or y<bottom_wall or y>top_wall \n",
        "    return outside\n",
        "\n",
        "def place_leaf():\n",
        "    leaf.hideturtle()\n",
        "    leaf.penup()\n",
        "    leaf.setx(rd.randint(-200,200))\n",
        "    leaf.sety(rd.randint(-200,200))\n",
        "    leaf.showturtle()\n",
        "    \n",
        "def game_over():\n",
        "    cp.hideturtle()\n",
        "    t.penup()\n",
        "    t.hideturtle()\n",
        "    t.write(\"GAME OVER \",font=['Ariel',18,'bold'],align='center')\n",
        "    \n",
        "    \n",
        "def dis_score(current_score):\n",
        "    score_.clear()\n",
        "    score_.penup()\n",
        "    x=(t.window_width()/2)-50\n",
        "    y=(t.window_height()/2)-50\n",
        "    score_.setpos(x,y)\n",
        "    score_.write(str(current_score),align='right',font=['Ariel',25,'bold'])\n",
        "\n",
        "def start_game():\n",
        "    \n",
        "    if game_started :\n",
        "        return\n",
        "    #game_started = True\n",
        "    score = 0\n",
        "    text_.clear()\n",
        "    \n",
        "    cp_speed =2\n",
        "    cp_length=3\n",
        "    cp.shapesize(1,cp_length,1)\n",
        "    cp.showturtle()\n",
        "    dis_score(score)\n",
        "    place_leaf()\n",
        "    \n",
        "    while True :\n",
        "        cp.forward(cp_speed)\n",
        "        if cp.distance(leaf) < 20:\n",
        "            place_leaf()\n",
        "            cp_length=cp_length +1\n",
        "            cp.shapesize(1,cp_length,1)\n",
        "            cp_speed+=1\n",
        "            score= score+10\n",
        "            dis_score(score)\n",
        "        if check_limit():\n",
        "            game_over()\n",
        "            break\n",
        "        "
      ]
    },
    {
      "cell_type": "code",
      "execution_count": null,
      "metadata": {
        "id": "FKiYfE3dG1F7"
      },
      "outputs": [],
      "source": [
        "def move_up():\n",
        "    if cp.heading()==0 or cp.heading()== 180:\n",
        "        cp.setheading(90)\n",
        "def move_down():\n",
        "    if cp.heading()==0 or cp.heading()== 180:\n",
        "        cp.setheading(270)\n",
        "def move_left():\n",
        "    if cp.heading()==90 or cp.heading()== 270:\n",
        "        cp.setheading(180)   \n",
        "        \n",
        "def move_right():\n",
        "    if cp.heading()==90 or cp.heading()== 270:\n",
        "        cp.setheading(0)"
      ]
    },
    {
      "cell_type": "code",
      "execution_count": null,
      "metadata": {
        "id": "ls7TbByoG1F8"
      },
      "outputs": [],
      "source": [
        "game_started=False\n",
        "t.onkey(start_game,'space')\n",
        "t.onkey(move_up,'Up')\n",
        "t.onkey(move_down,'Down')\n",
        "t.onkey(move_left,'Left')\n",
        "t.onkey(move_right,'Right')\n",
        "t.listen()\n",
        "t.mainloop()"
      ]
    },
    {
      "cell_type": "code",
      "execution_count": null,
      "metadata": {
        "id": "8iYVR06mG1F8"
      },
      "outputs": [],
      "source": [
        ""
      ]
    },
    {
      "cell_type": "code",
      "execution_count": null,
      "metadata": {
        "id": "Ad0XcemyG1F8"
      },
      "outputs": [],
      "source": [
        ""
      ]
    }
  ],
  "metadata": {
    "kernelspec": {
      "display_name": "Python 3",
      "language": "python",
      "name": "python3"
    },
    "language_info": {
      "codemirror_mode": {
        "name": "ipython",
        "version": 3
      },
      "file_extension": ".py",
      "mimetype": "text/x-python",
      "name": "python",
      "nbconvert_exporter": "python",
      "pygments_lexer": "ipython3",
      "version": "3.7.4"
    },
    "colab": {
      "name": "caterpillargame.ipynb",
      "provenance": [],
      "collapsed_sections": []
    }
  },
  "nbformat": 4,
  "nbformat_minor": 0
}